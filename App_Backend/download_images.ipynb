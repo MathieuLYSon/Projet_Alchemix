{
 "cells": [
  {
   "cell_type": "code",
   "execution_count": 14,
   "metadata": {},
   "outputs": [],
   "source": [
    "#!/usr/bin/env python3\n",
    "# Spotify API\n",
    "import spotipy\n",
    "import spotipy.util as util\n",
    "from spotipy.oauth2 import SpotifyClientCredentials\n",
    "\n",
    "# OS\n",
    "import requests\n",
    "\n",
    "# Mongo\n",
    "import pymongo\n",
    "\n",
    "# URL manipulation\n",
    "import urllib.request\n",
    "\n",
    "# Mongo Atlas\n",
    "username = \"Sn4keyes\"\n",
    "password = \"?nBZFOid2804\"\n",
    "cluster_uri = \"cluster0.kjfexm6.mongodb.net\"\n",
    "database_name = \"mern\"\n",
    "\n",
    "# Create a MongoDB client and connect to your cluster\n",
    "client = pymongo.MongoClient(f\"mongodb+srv://{username}:{password}@{cluster_uri}/{database_name}\", tls=True,  tlsAllowInvalidCertificates=True)\n",
    "db_mongo = client[database_name]\n",
    "collection_mongo = db_mongo[\"all_musics\"]\n",
    "\n",
    "# Fonction qui récupère l'url d'une image et l'enregistre au 'save_path' indiqué\n",
    "def download_image(image_url, image_id):\n",
    "    save_path = (\"./uploads/images_musics/\" + image_id + \".jpg\")                       # Changer ./images/ par le dossier ou tu télécharges les images\n",
    "    urllib.request.urlretrieve(image_url, save_path)\n",
    "\n",
    "def get_image_url():\n",
    "    cursor = collection_mongo.find({}, {\"album.album_image\" : 1})\n",
    "    image_urls = []\n",
    "    for document in cursor:\n",
    "        image_id = document['album']['album_image']\n",
    "        image_url = \"https://i.scdn.co/image/\" + image_id               # Ici changer pour l'url locale\n",
    "        image_urls.append((image_url, image_id))\n",
    "    return image_urls\n",
    "\n",
    "def download_all_images():\n",
    "    image_info = get_image_url()\n",
    "    for (image_url, image_id) in image_info:\n",
    "        download_image(image_url, image_id)\n",
    "\n",
    "download_all_images()"
   ]
  }
 ],
 "metadata": {
  "kernelspec": {
   "display_name": "Python 3",
   "language": "python",
   "name": "python3"
  },
  "language_info": {
   "codemirror_mode": {
    "name": "ipython",
    "version": 3
   },
   "file_extension": ".py",
   "mimetype": "text/x-python",
   "name": "python",
   "nbconvert_exporter": "python",
   "pygments_lexer": "ipython3",
   "version": "3.11.0"
  },
  "orig_nbformat": 4
 },
 "nbformat": 4,
 "nbformat_minor": 2
}
